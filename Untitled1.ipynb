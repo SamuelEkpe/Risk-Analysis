{
 "cells": [
  {
   "cell_type": "markdown",
   "id": "6bc4de41",
   "metadata": {},
   "source": [
    "##  FLow COntrol and String Data Types"
   ]
  },
  {
   "cell_type": "code",
   "execution_count": 3,
   "id": "b1bc7913",
   "metadata": {},
   "outputs": [
    {
     "name": "stdout",
     "output_type": "stream",
     "text": [
      "8\n"
     ]
    }
   ],
   "source": [
    "a =  3\n",
    "a+=5\n",
    "print(a)"
   ]
  },
  {
   "cell_type": "markdown",
   "id": "0d91381b",
   "metadata": {},
   "source": [
    "## WHILE LOOP"
   ]
  },
  {
   "cell_type": "code",
   "execution_count": 11,
   "id": "ee1b7971",
   "metadata": {},
   "outputs": [
    {
     "name": "stdout",
     "output_type": "stream",
     "text": [
      "4\n",
      "5\n",
      "6\n",
      "7\n",
      "8\n",
      "9\n",
      "10\n"
     ]
    }
   ],
   "source": [
    "a= 4\n",
    "while(a<10):\n",
    "    print(a)\n",
    "    a+=1\n",
    "print(a)\n"
   ]
  },
  {
   "cell_type": "code",
   "execution_count": 13,
   "id": "aa15f638",
   "metadata": {},
   "outputs": [
    {
     "name": "stdout",
     "output_type": "stream",
     "text": [
      "5\n",
      "NIIT:- Learning Never Stops\n",
      "4\n",
      "NIIT:- Learning Never Stops\n",
      "3\n",
      "NIIT:- Learning Never Stops\n",
      "2\n",
      "NIIT:- Learning Never Stops\n",
      "1\n",
      "NIIT:- Learning Never Stops\n"
     ]
    }
   ],
   "source": [
    "var1 = 5;\n",
    "while var1>0:\n",
    "    print(var1)\n",
    "    var1-=1\n",
    "    print(\"NIIT:- Learning Never Stops\")"
   ]
  },
  {
   "cell_type": "code",
   "execution_count": null,
   "id": "ebd976d8",
   "metadata": {},
   "outputs": [],
   "source": [
    "var2 =-10\n",
    "while(var2<0):\n",
    "    print(var2)\n",
    "    var2+=1;"
   ]
  },
  {
   "cell_type": "code",
   "execution_count": null,
   "id": "fbdf4cf9",
   "metadata": {},
   "outputs": [],
   "source": [
    "while true:\n",
    "    user=input(\"Type Something here>\")"
   ]
  }
 ],
 "metadata": {
  "kernelspec": {
   "display_name": "Python 3 (ipykernel)",
   "language": "python",
   "name": "python3"
  },
  "language_info": {
   "codemirror_mode": {
    "name": "ipython",
    "version": 3
   },
   "file_extension": ".py",
   "mimetype": "text/x-python",
   "name": "python",
   "nbconvert_exporter": "python",
   "pygments_lexer": "ipython3",
   "version": "3.9.7"
  }
 },
 "nbformat": 4,
 "nbformat_minor": 5
}
