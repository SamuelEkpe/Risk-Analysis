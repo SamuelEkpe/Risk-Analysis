{
 "cells": [
  {
   "cell_type": "markdown",
   "id": "1d5d137e",
   "metadata": {},
   "source": [
    "import numpy as np\n",
    "import matplotlib.pyplot as plt\n",
    "\n",
    "# Define parameters and their distributions\n",
    "np.random.seed(42)  # For reproducibility\n",
    "\n",
    "# Concentration of PCBs in water (normal distribution)\n",
    "pcb_water_mean = 0.5  # ppb\n",
    "pcb_water_std = 0.1  # ppb\n",
    "\n",
    "# PCB levels in food items (uniform distributions)\n",
    "pcb_milk = np.random.uniform(0, 0.75, 10000)  # 10000 samples\n",
    "pcb_fish = np.random.uniform(0, 1, 10000)  # 10000 samples\n",
    "pcb_poultry_red_meat = np.random.uniform(0, 1.5, 10000)  # 10000 samples\n",
    "\n",
    "# Consumption rates (normal or uniform distributions)\n",
    "fish_consumption_per_meal = np.random.normal(0.2, 0.05, 10000)  # 10000 samples\n",
    "num_fish_meals_per_year = np.random.uniform(150, 200, 10000)  # 10000 samples\n",
    "poultry_red_meat_consumption = np.random.normal(0.16, 0.03, 10000)  # 10000 samples\n",
    "milk_consumption = np.random.normal(250, 50, 10000)  # 10000 samples\n",
    "\n",
    "# Body weight (normal distribution)\n",
    "body_weight_mean = 70  # kg\n",
    "body_weight_std = 10  # kg\n",
    "\n",
    "# Perform Monte Carlo simulation\n",
    "num_simulations = 10000\n",
    "add_estimates = []\n",
    "\n",
    "for i in range(num_simulations):\n",
    "    # Sample values from distributions\n",
    "    pcb_water = np.random.normal(pcb_water_mean, pcb_water_std)\n",
    "    weight = np.random.normal(body_weight_mean, body_weight_std)\n",
    "    \n",
    "    # Calculate contributions from water and different food sources\n",
    "    add_water = (pcb_water * 2.1) / weight  # Water intake assumed as 2.1 L/day\n",
    "    \n",
    "    add_food = (\n",
    "        (pcb_milk[i] * 0.25) / weight +  # 250 ml milk intake per day\n",
    "        (pcb_fish[i] * fish_consumption_per_meal[i] * num_fish_meals_per_year[i]) / weight +\n",
    "        (pcb_poultry_red_meat[i] * poultry_red_meat_consumption[i]) / weight\n",
    "    )\n",
    "    \n",
    "    total_add = add_water + add_food\n",
    "    add_estimates.append(total_add)\n",
    "\n",
    "# Calculate 90th percentile interval\n",
    "percentile_90 = np.percentile(add_estimates, 90)\n",
    "\n",
    "# Visualize the distribution of ADD estimates\n",
    "plt.hist(add_estimates, bins=50, alpha=0.7, color='skyblue')\n",
    "plt.axvline(x=percentile_90, color='red', linestyle='dashed', linewidth=1.5, label='90th percentile')\n",
    "plt.xlabel('Average Daily Dose (ADD) of PCBs')\n",
    "plt.ylabel('Frequency')\n",
    "plt.title('Distribution of ADD Estimates')\n",
    "plt.legend()\n",
    "plt.show()\n",
    "\n",
    "print(f\"The 90th percentile interval of ADD estimation for PCBs is: {percentile_90:.4f} mg/kg/day\")\n"
   ]
  },
  {
   "cell_type": "code",
   "execution_count": 2,
   "id": "35456a60",
   "metadata": {},
   "outputs": [],
   "source": [
    "import pandas as pd\n",
    "import numpy as np\n",
    "import matplotlib.pyplot as mplt"
   ]
  },
  {
   "cell_type": "markdown",
   "id": "31928a7e",
   "metadata": {},
   "source": [
    "## defining parameters and their distributions"
   ]
  },
  {
   "cell_type": "code",
   "execution_count": 5,
   "id": "bf281755",
   "metadata": {},
   "outputs": [],
   "source": [
    "np.random.seed(42) # for reproducibility"
   ]
  },
  {
   "cell_type": "markdown",
   "id": "3a09fbcb",
   "metadata": {},
   "source": [
    "## Concentatrations pcbs in  Water (Normal Distribution)"
   ]
  },
  {
   "cell_type": "code",
   "execution_count": 26,
   "id": "3e5c6e5d",
   "metadata": {},
   "outputs": [],
   "source": [
    "pcb_water_mean = 0.5 # water ppb\n",
    "pcb_water_std =0.1 # water ppb standard deviation"
   ]
  },
  {
   "cell_type": "markdown",
   "id": "21b16848",
   "metadata": {},
   "source": [
    "## Concentrations of PCBs in food items (uniform distribution)"
   ]
  },
  {
   "cell_type": "code",
   "execution_count": 19,
   "id": "016c4cfb",
   "metadata": {},
   "outputs": [
    {
     "data": {
      "text/plain": [
       "array([0.06256158, 0.29036923, 0.20540496, ..., 0.72116966, 0.41857327,\n",
       "       0.25747625])"
      ]
     },
     "execution_count": 19,
     "metadata": {},
     "output_type": "execute_result"
    }
   ],
   "source": [
    "pcb_fish =np.random.uniform(0,1,10000) # 10000 samples\n",
    "pcb_meatRedPoultry = np.random.uniform(0,1.5,10000) # 10000 samples with lower bound as 0 and upperbound as 1.5\n",
    "pcb_milk = np.random.uniform(0,.75,10000) # 10000 random samples with min value 0 and max 0.75\n",
    "pcb_fish\n"
   ]
  },
  {
   "cell_type": "markdown",
   "id": "ffedb44b",
   "metadata": {},
   "source": [
    "## consumption rates of food (normal or uniform)"
   ]
  },
  {
   "cell_type": "code",
   "execution_count": 43,
   "id": "5ea7eb41",
   "metadata": {},
   "outputs": [],
   "source": [
    "fish_conc_per_meal = np.random.normal(0.2,0.05,10000)\n",
    "num_of_fish_meals_yearly = np.random.uniform(150,200,10000)\n",
    "milk_cons_per_meal =np.random.normal(250,50,10000)\n",
    "meat_poultry_per_meal = np.random.normal(0.16,0.03,10000)"
   ]
  },
  {
   "cell_type": "code",
   "execution_count": 23,
   "id": "c830e7b2",
   "metadata": {},
   "outputs": [],
   "source": [
    "body_weight_mean = 70 #kg\n",
    "body_weight_std =10 # kg"
   ]
  },
  {
   "cell_type": "markdown",
   "id": "361df91d",
   "metadata": {},
   "source": [
    "## Now Performaing Monte Carlo Simulation for the distributions"
   ]
  },
  {
   "cell_type": "code",
   "execution_count": 31,
   "id": "d630996b",
   "metadata": {},
   "outputs": [],
   "source": [
    "num_simulations = 10000\n",
    "add_estimates = []\n",
    "\n",
    "for i in range(num_simulations):\n",
    "    # Sample values from distributions\n",
    "    pcb_water = np.random.normal(pcb_water_mean, pcb_water_std)\n",
    "    weight = np.random.normal(body_weight_mean, body_weight_std)\n",
    "    \n",
    "    # Calculate contributions from water and different food sources\n",
    "    add_water = (pcb_water * 2.1) / weight  # Water intake assumed as 2.1 L/day\n",
    "    \n",
    "    add_food = (\n",
    "        (pcb_milk[i] * 0.25) / weight   # 250 ml=0.25l milk intake per day   \n",
    "        + (pcb_fish[i] * fish_cons_per_meal[i] * num_of_fish_meals_yearly[i]) / weight \n",
    "       + (pcb_meatRedPoultry[i] * meat_poultry_per_meal[i]) / weight\n",
    "    )\n",
    "    \n",
    "    total_add = add_water + add_food\n",
    "    add_estimates.append(total_add)\n",
    "    print(add_estimates\n",
    "         )"
   ]
  },
  {
   "cell_type": "markdown",
   "id": "75ebd4ec",
   "metadata": {},
   "source": [
    "## Claculating 90th Percentile of the simulations"
   ]
  },
  {
   "cell_type": "code",
   "execution_count": 35,
   "id": "263967b6",
   "metadata": {},
   "outputs": [
    {
     "data": {
      "text/plain": [
       "0.5159151130891281"
      ]
     },
     "execution_count": 35,
     "metadata": {},
     "output_type": "execute_result"
    }
   ],
   "source": [
    "percentile_90 = np.percentile(add_estimates,90)\n",
    "percentile_90"
   ]
  },
  {
   "cell_type": "code",
   "execution_count": 36,
   "id": "c9ab8b9f",
   "metadata": {},
   "outputs": [],
   "source": [
    "## Visualising the ADD "
   ]
  },
  {
   "cell_type": "code",
   "execution_count": 40,
   "id": "d3daf65f",
   "metadata": {},
   "outputs": [
    {
     "data": {
      "image/png": "[encoded data removed]",
      "text/plain": [
       "<Figure size 432x288 with 1 Axes>"
      ]
     },
     "metadata": {
      "needs_background": "light"
     },
     "output_type": "display_data"
    },
    {
     "name": "stdout",
     "output_type": "stream",
     "text": [
      "The 90th percentile interval of ADD estimation for PCBs is: 0.5159 mg/kg/day\n"
     ]
    }
   ],
   "source": [
    "mplt.hist(add_estimates, bins=50, alpha=0.7, color='skyblue')\n",
    "mplt.axvline(x=percentile_90, color='red', linestyle='dashed', linewidth=1.5, label='90th percentile')\n",
    "mplt.xlabel('Average Daily Dose (ADD) of PCBs')\n",
    "mplt.ylabel('Frequency')\n",
    "mplt.title('Distribution of ADD Estimates')\n",
    "mplt.legend()\n",
    "mplt.show()\n",
    "\n",
    "print(f\"The 90th percentile interval of ADD estimation for PCBs is: {percentile_90:.4f} mg/kg/day\")\n"
   ]
  },
  {
   "cell_type": "markdown",
   "id": "a7d23187",
   "metadata": {},
   "source": [
    "## Sensitivity Analysis"
   ]
  },
  {
   "cell_type": "code",
   "execution_count": 42,
   "id": "0265cc2b",
   "metadata": {},
   "outputs": [
    {
     "data": {
      "image/png": "[encoded data removed]",
      "text/plain": [
       "<Figure size 576x432 with 2 Axes>"
      ]
     },
     "metadata": {
      "needs_background": "light"
     },
     "output_type": "display_data"
    }
   ],
   "source": [
    "body_weight_sd_values = [10, 15, 20]  # Varying standard deviations for body weight\n",
    "\n",
    "water_lower_bound = 1.0  # Lower bound for water intake\n",
    "water_upper_bounds = [2.0, 2.2, 2.4]  # Varying upper bounds for water intake\n",
    "\n",
    "# Perform sensitivity analysis\n",
    "mean_add_values = []\n",
    "\n",
    "for sd in body_weight_sd_values:\n",
    "    for upper_bound in water_upper_bounds:\n",
    "        # Sample values from distributions\n",
    "        body_weight = np.random.normal(body_weight_mean, sd, 10000)\n",
    "        water_intake = np.random.uniform(water_lower_bound, upper_bound, 10000)\n",
    "        \n",
    "        # Calculate ADD for each set of sampled values\n",
    "        add_values = (0.5 * water_intake) / body_weight  # Using the formula for ADD\n",
    "        \n",
    "        # Calculate mean ADD value\n",
    "        mean_add = np.mean(add_values)\n",
    "        mean_add_values.append((sd, upper_bound, mean_add))\n",
    "\n",
    "# Separate results for SD and upper bound for plotting\n",
    "sd_values = [item[0] for item in mean_add_values]\n",
    "upper_bound_values = [item[1] for item in mean_add_values]\n",
    "mean_add_values = [item[2] for item in mean_add_values]\n",
    "\n",
    "# Plotting\n",
    "fig, ax = mplt.subplots(figsize=(8, 6))\n",
    "scatter = ax.scatter(sd_values, mean_add_values, c=upper_bound_values, cmap='viridis')\n",
    "cbar = mplt.colorbar(scatter)\n",
    "cbar.set_label('Upper Bound for Water Intake')\n",
    "\n",
    "mplt.xlabel('Standard Deviation (SD) for Body Weight')\n",
    "mplt.ylabel('Mean ADD of PCBs')\n",
    "mplt.title('Sensitivity Analysis: Mean ADD vs SD and Upper Bound for Water Intake')\n",
    "mplt.grid(True)\n",
    "mplt.show()"
   ]
  }
 ],
 "metadata": {
  "kernelspec": {
   "display_name": "Python 3 (ipykernel)",
   "language": "python",
   "name": "python3"
  },
  "language_info": {
   "codemirror_mode": {
    "name": "ipython",
    "version": 3
   },
   "file_extension": ".py",
   "mimetype": "text/x-python",
   "name": "python",
   "nbconvert_exporter": "python",
   "pygments_lexer": "ipython3",
   "version": "3.9.7"
  }
 },
 "nbformat": 4,
 "nbformat_minor": 5
}
